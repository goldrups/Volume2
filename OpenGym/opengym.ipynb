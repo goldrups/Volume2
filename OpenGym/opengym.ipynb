{
 "cells": [
  {
   "cell_type": "markdown",
   "metadata": {
    "id": "xQ1tKnrK4TcN"
   },
   "source": [
    "\n",
    "## Volume 2: OpenGym\n",
    "\n"
   ]
  },
  {
   "cell_type": "markdown",
   "metadata": {
    "id": "3qbA8CjB3_IL"
   },
   "source": [
    "<Sam Goldrup\\>\n",
    "<Math 323\\>\n",
    "<3 March 2022\\>"
   ]
  },
  {
   "cell_type": "markdown",
   "metadata": {
    "id": "AUZ1Wq-8NwSn"
   },
   "source": [
    "**Note:** Some IPython notebook platforms (such as Google Colab) do not currently support rendering OpenAI environments. In order to properly render the OpenGym environments in this lab, you may need to run the Jupyter Notebook locally (for example, run it in VSCode or from the command line)."
   ]
  },
  {
   "cell_type": "code",
   "execution_count": null,
   "metadata": {
    "id": "XqeTGS1PNvZ7"
   },
   "outputs": [],
   "source": []
  },
  {
   "cell_type": "code",
   "execution_count": 1,
   "metadata": {
    "id": "ZlMKi7Fx35TI"
   },
   "outputs": [
    {
     "name": "stderr",
     "output_type": "stream",
     "text": [
      "\n"
     ]
    }
   ],
   "source": [
    "import gym\n",
    "import numpy as np\n",
    "from IPython.display import clear_output\n",
    "import random\n",
    "from matplotlib import pyplot as plt"
   ]
  },
  {
   "cell_type": "markdown",
   "metadata": {
    "id": "W-rNQLwd429z"
   },
   "source": [
    "**Problem 1**\n",
    "\n",
    "*   Implement `random_blackjack()`.\n",
    "*   Run the game 500 times and output the percentage of games that are wins.\n",
    "\n"
   ]
  },
  {
   "cell_type": "code",
   "execution_count": 2,
   "metadata": {
    "id": "lrhUolvq45vh"
   },
   "outputs": [],
   "source": [
    "# Problem 1\n",
    "def random_blackjack(n):\n",
    "    \"\"\"\n",
    "    Play a random game of Blackjack. Determine the\n",
    "    percentage the player wins out of n times.\n",
    "    Parameters:\n",
    "        n (int): number of iterations\n",
    "    Returns:\n",
    "        percent (float): percentage that the player\n",
    "                         wins\n",
    "    \"\"\"\n",
    "    env = gym.make(\"Blackjack-v1\")\n",
    "    dubs = 0\n",
    "    for i in range(n): \n",
    "        observation = env.reset() #gotta reset the environment\n",
    "        _,won,play_on,_ = env.step(env.action_space.sample()) #take a random step\n",
    "        while play_on == False: #while not done\n",
    "            _,won,play_on,_ = env.step(env.action_space.sample())\n",
    "        if won == 1:\n",
    "            dubs += 1\n",
    "            \n",
    "    env.close()\n",
    "    return 100*(dubs/n)"
   ]
  },
  {
   "cell_type": "code",
   "execution_count": 3,
   "metadata": {
    "id": "JF-bS3gyIx4k"
   },
   "outputs": [
    {
     "data": {
      "text/plain": [
       "28.310000000000002"
      ]
     },
     "execution_count": 3,
     "metadata": {},
     "output_type": "execute_result"
    }
   ],
   "source": [
    "random_blackjack(10000)"
   ]
  },
  {
   "cell_type": "markdown",
   "metadata": {
    "id": "xfZPCIMC5JmB"
   },
   "source": [
    "**Problem 2**\n",
    "\n",
    "* Implement `blackjack()`.\n",
    "* For `n` = 1, 2, ..., 21, plot the win percentage after 10,000 games of Blackjack.\n",
    "* Identify which value of `n` gives the highest win rate."
   ]
  },
  {
   "cell_type": "code",
   "execution_count": 4,
   "metadata": {
    "id": "6Uv7AD8I5LWk"
   },
   "outputs": [],
   "source": [
    "# Problem 2\n",
    "def blackjack(n=11):\n",
    "    \"\"\"\n",
    "    Play blackjack with naive algorithm.\n",
    "    Parameters:\n",
    "        n (int): maximum accepted player hand\n",
    "    Return:\n",
    "        percent (float): percentage of 10000 iterations\n",
    "                         that the player wins\n",
    "    \"\"\"\n",
    "    dubs = 0\n",
    "    env = gym.make(\"Blackjack-v1\")\n",
    "\n",
    "    for i in range(10000):\n",
    "        observation = env.reset()\n",
    "        done = False #we will play while not \"done\"\n",
    "        \n",
    "        if observation[0] <= n:\n",
    "            draw = 1\n",
    "        else:\n",
    "            draw = 0\n",
    "        \n",
    "        while not done: #iterate until the game is over\n",
    "            hand,won,done,dontcare2 = env.step(draw)\n",
    "            if hand[0] <= n: #number of cards in the hand\n",
    "                draw = 1\n",
    "            else:\n",
    "                draw = 0\n",
    "        if won == 1:\n",
    "            dubs += 1\n",
    "                \n",
    "    env.close() #gotta make sure to close that environment\n",
    "            \n",
    "    return dubs/10000"
   ]
  },
  {
   "cell_type": "code",
   "execution_count": 5,
   "metadata": {
    "id": "miBtqMaVIjFJ"
   },
   "outputs": [
    {
     "data": {
      "image/png": "[encoded data removed]",
      "text/plain": [
       "<Figure size 432x288 with 1 Axes>"
      ]
     },
     "metadata": {
      "needs_background": "light"
     },
     "output_type": "display_data"
    }
   ],
   "source": [
    "# Plot here\n",
    "\n",
    "success_vals = []\n",
    "\n",
    "for j in range(21):\n",
    "    success_vals.append(blackjack(j)) #iterate over different max hand values\n",
    "    \n",
    "plt.plot(list(range(len(success_vals))),success_vals) #make the plot\n",
    "\n",
    "plt.show()"
   ]
  },
  {
   "cell_type": "markdown",
   "metadata": {
    "id": "lY8vR6Ygxxk-"
   },
   "source": [
    "*Identify which value(s) give the highest winrate here*\n",
    "n=16 gives the best win rate. "
   ]
  },
  {
   "cell_type": "markdown",
   "metadata": {
    "id": "i9xB1KaZ5OJ3"
   },
   "source": [
    "**Problem 3**\n",
    "\n",
    "* Implement `cartpole()`.\n",
    "* Render the game and run your function once.\n",
    "* Run Cartpole 100 times (without rendering) and print out the average number of steps before it terminates."
   ]
  },
  {
   "cell_type": "code",
   "execution_count": 6,
   "metadata": {
    "id": "AGEUkBOx5Qbk"
   },
   "outputs": [],
   "source": [
    "# Problem 3\n",
    "def cartpole(render=False):\n",
    "    \"\"\"\n",
    "    Solve CartPole-v0 by checking the velocity\n",
    "    of the tip of the pole.\n",
    "    Parameters: \n",
    "        render (bool): If True, render environment at each step\n",
    "    Return:\n",
    "        iterations (integer): number of steps or iterations\n",
    "                              to solve the environment\n",
    "    \"\"\"\n",
    "    env = gym.make(\"CartPole-v1\")\n",
    "    env.reset()\n",
    "    \n",
    "    steps = 0\n",
    "    \n",
    "    state = env.step(env.action_space.sample()) #position, angle, velocity, pole velocity\n",
    "    pos,ang,vel,p_vel,done= state[0][0],state[0][1],state[0][2],state[0][3],state[2] #get values for initial state\n",
    "    \n",
    "    while not done:\n",
    "        if render == True: #render the environment as an animation\n",
    "            env.render()\n",
    "        if p_vel > 0: # positive velocity means exert force the other way\n",
    "            state = env.step(1)\n",
    "            pos,ang,vel,p_vel,done = state[0][0],state[0][1],state[0][2],state[0][3],state[2]\n",
    "        else: #similar idea as above\n",
    "            state = env.step(0)\n",
    "            pos,ang,vel,p_vel,done = state[0][0],state[0][1],state[0][2],state[0][3],state[2]\n",
    "        steps += 1\n",
    "            \n",
    "    env.close() #shut it\n",
    "    return steps"
   ]
  },
  {
   "cell_type": "code",
   "execution_count": 7,
   "metadata": {
    "id": "78iSdRs6wZKb"
   },
   "outputs": [
    {
     "data": {
      "text/plain": [
       "151"
      ]
     },
     "execution_count": 7,
     "metadata": {},
     "output_type": "execute_result"
    }
   ],
   "source": [
    "# Render the game and run once here\n",
    "cartpole(render=True) #to render"
   ]
  },
  {
   "cell_type": "code",
   "execution_count": 8,
   "metadata": {
    "id": "EaNbYfsuIhxN"
   },
   "outputs": [
    {
     "name": "stdout",
     "output_type": "stream",
     "text": [
      "avg with n=100:  196.3\n"
     ]
    }
   ],
   "source": [
    "# Run the game here and print average steps to termination\n",
    "step_tot = 0\n",
    "for i in range(100): #calculate an expectation\n",
    "    step_tot += cartpole()\n",
    "    \n",
    "print(\"avg with n=100: \", step_tot/100)"
   ]
  },
  {
   "cell_type": "markdown",
   "metadata": {
    "id": "TPFFk0nX5U_b"
   },
   "source": [
    "**Problem 4**\n",
    "\n",
    "* Implement `car()`.\n",
    "* Render the game and run your function once.\n",
    "* Run MountainCar 100 times (without rendering) and print out the average number of steps before it terminates."
   ]
  },
  {
   "cell_type": "code",
   "execution_count": 9,
   "metadata": {
    "id": "Lqq3Q6EO5Wgq"
   },
   "outputs": [],
   "source": [
    "# Problem 4\n",
    "def car(render=False):\n",
    "    \"\"\"\n",
    "    Solve MountainCar-v0 by checking the position\n",
    "    of the car.\n",
    "    Parameters: \n",
    "        render (bool): If True, render environment at each step\n",
    "    Return:\n",
    "        iterations (integer): number of steps or iterations\n",
    "                              to solve the environment\n",
    "    \"\"\"\n",
    "    env = gym.make(\"MountainCar-v0\") #make the mountain car environment\n",
    "    env.reset()\n",
    "    \n",
    "    steps = 0\n",
    "    \n",
    "    state = env.step(env.action_space.sample())\n",
    "    pos,vel,done= state[0][0],state[0][1],state[2] #get initial position, velocity, and whether environment is don\n",
    "    steps = 1\n",
    "    \n",
    "    while not done:\n",
    "        if render == True: \n",
    "            env.render()\n",
    "        if pos < 0 and vel > 0:\n",
    "            state = env.step(2)\n",
    "            pos,vel,done= state[0][0],state[0][1],state[2]\n",
    "        elif pos > 0 and vel < 0:\n",
    "            state = env.step(0)\n",
    "            pos,vel,done= state[0][0],state[0][1],state[2]\n",
    "        elif pos > 0 and vel > 0:\n",
    "            state = env.step(2)\n",
    "            pos,vel,done= state[0][0],state[0][1],state[2]\n",
    "        else:\n",
    "            state = env.step(0)\n",
    "            pos,vel,done= state[0][0],state[0][1],state[2]\n",
    "        \n",
    "        steps += 1 #step count!\n",
    "        \n",
    "    env.close() #shut it\n",
    "    \n",
    "    \n",
    "    return steps"
   ]
  },
  {
   "cell_type": "code",
   "execution_count": 10,
   "metadata": {
    "id": "4_kSEBYdwgnc"
   },
   "outputs": [
    {
     "data": {
      "text/plain": [
       "122"
      ]
     },
     "execution_count": 10,
     "metadata": {},
     "output_type": "execute_result"
    }
   ],
   "source": [
    "# Render the game here\n",
    "car(render=True)"
   ]
  },
  {
   "cell_type": "code",
   "execution_count": 11,
   "metadata": {
    "id": "fUsBDn6KIgw5"
   },
   "outputs": [
    {
     "name": "stdout",
     "output_type": "stream",
     "text": [
      "121.03\n"
     ]
    }
   ],
   "source": [
    "# Run the game here and print average steps to termination\n",
    "sum = 0\n",
    "for i in range(100):\n",
    "    sum += car()\n",
    "print(sum/100)"
   ]
  },
  {
   "cell_type": "markdown",
   "metadata": {
    "id": "U5tSd-zE4sHZ"
   },
   "source": [
    "**Helper Function for Problem 5**"
   ]
  },
  {
   "cell_type": "code",
   "execution_count": 12,
   "metadata": {
    "id": "zNNc3x9x09Zr"
   },
   "outputs": [],
   "source": [
    "def find_qvalues(env,alpha=.1,gamma=.6,epsilon=.1):\n",
    "    \"\"\"\n",
    "    Use the Q-learning algorithm to find qvalues.\n",
    "    Parameters:\n",
    "        env (str): environment name\n",
    "        alpha (float): learning rate\n",
    "        gamma (float): discount factor\n",
    "        epsilon (float): maximum value\n",
    "    Returns:\n",
    "        q_table (ndarray nxm)\n",
    "    \"\"\"\n",
    "    # Make environment\n",
    "    env = gym.make(env)\n",
    "    # Make Q-table\n",
    "    q_table = np.zeros((env.observation_space.n,env.action_space.n))\n",
    "\n",
    "    # Train\n",
    "    for i in range(1,100001):\n",
    "        # Reset state\n",
    "        state = env.reset()\n",
    "\n",
    "        epochs, penalties, reward, = 0,0,0\n",
    "        done = False\n",
    "\n",
    "        while not done:\n",
    "            # Accept based on alpha\n",
    "            if random.uniform(0,1) < epsilon:\n",
    "                action = env.action_space.sample()\n",
    "            else:\n",
    "                action = np.argmax(q_table[state])\n",
    "\n",
    "            # Take action\n",
    "            next_state, reward, done, info = env.step(action)\n",
    "\n",
    "            # Calculate new qvalue\n",
    "            old_value = q_table[state,action]\n",
    "            next_max = np.max(q_table[next_state])\n",
    "\n",
    "            new_value = (1-alpha) * old_value + alpha * (reward + gamma * next_max)\n",
    "            q_table[state, action] = new_value\n",
    "\n",
    "            # Check if penalty is made\n",
    "            if reward == -10:\n",
    "                penalties += 1\n",
    "\n",
    "            # Get next observation\n",
    "            state = next_state\n",
    "            epochs += 1\n",
    "\n",
    "        # Print episode number\n",
    "        if i % 100 == 0:\n",
    "            clear_output(wait=True)\n",
    "            print(f\"Episode: {i}\")\n",
    "\n",
    "    print(\"Training finished.\")\n",
    "    return q_table\n"
   ]
  },
  {
   "cell_type": "markdown",
   "metadata": {
    "id": "ZODhO4AS5YQq"
   },
   "source": [
    "**Problem 5**\n",
    "\n",
    "* Render the \"`Taxi-v3`\" environment, act randomly until it terminates, and calculate the total reward\n",
    "* Render the \"`Taxi-v3`\" environment, use the Q-table to act optimally until it terminates, and calculate the total reward\n",
    "* Implement `taxi()`, then use it to print the average total reward for each algorithm.\n"
   ]
  },
  {
   "cell_type": "code",
   "execution_count": 13,
   "metadata": {
    "id": "e3i-LEnYKHyz"
   },
   "outputs": [
    {
     "name": "stdout",
     "output_type": "stream",
     "text": [
      "+---------+\n",
      "|\u001b[34;1mR\u001b[0m: | : :G|\n",
      "| : | : : |\n",
      "| : : : : |\n",
      "| | : | : |\n",
      "|\u001b[35mY\u001b[0m| :\u001b[43m \u001b[0m|B: |\n",
      "+---------+\n",
      "\n"
     ]
    }
   ],
   "source": [
    "# Random actions Taxi game\n",
    "env = gym.make(\"Taxi-v3\")\n",
    "env.reset()\n",
    "env.render()"
   ]
  },
  {
   "cell_type": "code",
   "execution_count": 14,
   "metadata": {
    "id": "0ejXeML7KJSJ"
   },
   "outputs": [
    {
     "name": "stdout",
     "output_type": "stream",
     "text": [
      "Episode: 100000\n",
      "Training finished.\n"
     ]
    }
   ],
   "source": [
    "# Q-table actions Taxi game\n",
    "q_anon = find_qvalues(\"Taxi-v3\") #make the table"
   ]
  },
  {
   "cell_type": "code",
   "execution_count": 15,
   "metadata": {},
   "outputs": [],
   "source": [
    "def random_acts_of_kindness(render=False):\n",
    "    env = gym.make(\"Taxi-v3\")\n",
    "    rewards = 0 \n",
    "    env.reset() #gotta reset that environment\n",
    "    dontcare1, reward, done, dontcare2 = env.step(env.action_space.sample()) #make a random step\n",
    "    rewards += reward\n",
    "    done = False\n",
    "    while not done: #play while environment not done yet\n",
    "        if render==True:\n",
    "            env.render()\n",
    "        dontcare, reward, done, dontcare2 = env.step(env.action_space.sample()) #keep making random steps\n",
    "        rewards += reward\n",
    "    return rewards    "
   ]
  },
  {
   "cell_type": "code",
   "execution_count": 16,
   "metadata": {},
   "outputs": [],
   "source": [
    "def q_version(q_table, render=False):\n",
    "    env = gym.make(\"Taxi-v3\")\n",
    "    total_qreward = 0\n",
    "    \n",
    "    env.reset()\n",
    "    pos = env.reset() #get initial position\n",
    "    \n",
    "    done = False\n",
    "    while not done:\n",
    "        if render == True:\n",
    "            env.render()\n",
    "        pos, score, done, dntcare = env.step(np.argmax(q_table[pos])) #greedily optimal position on the q table\n",
    "        total_qreward += score #add up successively\n",
    "        \n",
    "    env.close()\n",
    "    \n",
    "    return total_qreward\n",
    "    "
   ]
  },
  {
   "cell_type": "code",
   "execution_count": 17,
   "metadata": {
    "id": "APK2iYQV5aR4"
   },
   "outputs": [],
   "source": [
    "def taxi(q_table):\n",
    "    \"\"\"\n",
    "    Compare naive and q-learning algorithms.\n",
    "    Parameters:\n",
    "        q_table (ndarray nxm): table of qvalues\n",
    "    Returns:\n",
    "        naive (float): mean reward of naive algorithm\n",
    "                       of 10000 runs\n",
    "        q_reward (float): mean reward of Q-learning algorithm\n",
    "                          of 10000 runs\n",
    "    \"\"\"\n",
    "    env = gym.make(\"Taxi-v3\")\n",
    "    naive_reward = 0\n",
    "    q_reward = 0\n",
    "    for i in range(10000):\n",
    "        naive_reward += random_acts_of_kindness() #add up to get average for method\n",
    "        q_reward += q_version(q_table) #add up to get average for method\n",
    "    return naive_reward/10000,q_reward/10000"
   ]
  },
  {
   "cell_type": "code",
   "execution_count": 18,
   "metadata": {
    "id": "PhS7JR1JKOQu"
   },
   "outputs": [
    {
     "name": "stdout",
     "output_type": "stream",
     "text": [
      "(-769.8919, 7.9558)\n"
     ]
    }
   ],
   "source": [
    "# Print the average rewards of the Taxi game for both algorithms run 10,000 times\n",
    "print(taxi(q_anon))"
   ]
  }
 ],
 "metadata": {
  "colab": {
   "collapsed_sections": [],
   "name": "opengym.ipynb",
   "provenance": []
  },
  "kernelspec": {
   "display_name": "Python 3 (ipykernel)",
   "language": "python",
   "name": "python3"
  },
  "language_info": {
   "codemirror_mode": {
    "name": "ipython",
    "version": 3
   },
   "file_extension": ".py",
   "mimetype": "text/x-python",
   "name": "python",
   "nbconvert_exporter": "python",
   "pygments_lexer": "ipython3",
   "version": "3.8.5"
  }
 },
 "nbformat": 4,
 "nbformat_minor": 1
}
